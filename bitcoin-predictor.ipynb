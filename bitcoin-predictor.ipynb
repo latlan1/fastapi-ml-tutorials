{
 "cells": [
  {
   "cell_type": "code",
   "execution_count": 64,
   "metadata": {},
   "outputs": [],
   "source": [
    "from keras.models import Sequential\n",
    "from keras.layers import Dropout, LSTM, Activation, Dense\n",
    "from keras.optimizers import SGD, Adam\n",
    "from keras.callbacks import EarlyStopping\n",
    "import pandas as pd\n",
    "from sklearn.preprocessing import MinMaxScaler\n",
    "import numpy as np"
   ]
  },
  {
   "cell_type": "code",
   "execution_count": 65,
   "metadata": {},
   "outputs": [
    {
     "data": {
      "text/html": [
       "<div>\n",
       "<style scoped>\n",
       "    .dataframe tbody tr th:only-of-type {\n",
       "        vertical-align: middle;\n",
       "    }\n",
       "\n",
       "    .dataframe tbody tr th {\n",
       "        vertical-align: top;\n",
       "    }\n",
       "\n",
       "    .dataframe thead th {\n",
       "        text-align: right;\n",
       "    }\n",
       "</style>\n",
       "<table border=\"1\" class=\"dataframe\">\n",
       "  <thead>\n",
       "    <tr style=\"text-align: right;\">\n",
       "      <th></th>\n",
       "      <th>price_open</th>\n",
       "      <th>price_high</th>\n",
       "      <th>price_low</th>\n",
       "      <th>price_close</th>\n",
       "      <th>volume_traded</th>\n",
       "      <th>trades_count</th>\n",
       "    </tr>\n",
       "  </thead>\n",
       "  <tbody>\n",
       "    <tr>\n",
       "      <th>0</th>\n",
       "      <td>7165.72</td>\n",
       "      <td>7165.72</td>\n",
       "      <td>7165.71</td>\n",
       "      <td>7165.71</td>\n",
       "      <td>0.021841</td>\n",
       "      <td>2</td>\n",
       "    </tr>\n",
       "    <tr>\n",
       "      <th>1</th>\n",
       "      <td>7168.30</td>\n",
       "      <td>7168.30</td>\n",
       "      <td>7168.30</td>\n",
       "      <td>7168.30</td>\n",
       "      <td>1.000000</td>\n",
       "      <td>2</td>\n",
       "    </tr>\n",
       "    <tr>\n",
       "      <th>2</th>\n",
       "      <td>7170.50</td>\n",
       "      <td>7170.50</td>\n",
       "      <td>7170.50</td>\n",
       "      <td>7170.50</td>\n",
       "      <td>0.002000</td>\n",
       "      <td>1</td>\n",
       "    </tr>\n",
       "    <tr>\n",
       "      <th>3</th>\n",
       "      <td>7169.20</td>\n",
       "      <td>7169.20</td>\n",
       "      <td>7169.20</td>\n",
       "      <td>7169.20</td>\n",
       "      <td>0.004000</td>\n",
       "      <td>2</td>\n",
       "    </tr>\n",
       "    <tr>\n",
       "      <th>4</th>\n",
       "      <td>7169.20</td>\n",
       "      <td>7169.20</td>\n",
       "      <td>7169.20</td>\n",
       "      <td>7169.20</td>\n",
       "      <td>0.002000</td>\n",
       "      <td>1</td>\n",
       "    </tr>\n",
       "    <tr>\n",
       "      <th>...</th>\n",
       "      <td>...</td>\n",
       "      <td>...</td>\n",
       "      <td>...</td>\n",
       "      <td>...</td>\n",
       "      <td>...</td>\n",
       "      <td>...</td>\n",
       "    </tr>\n",
       "    <tr>\n",
       "      <th>9995</th>\n",
       "      <td>7179.50</td>\n",
       "      <td>7179.50</td>\n",
       "      <td>7179.50</td>\n",
       "      <td>7179.50</td>\n",
       "      <td>0.013325</td>\n",
       "      <td>1</td>\n",
       "    </tr>\n",
       "    <tr>\n",
       "      <th>9996</th>\n",
       "      <td>7181.67</td>\n",
       "      <td>7181.67</td>\n",
       "      <td>7181.67</td>\n",
       "      <td>7181.67</td>\n",
       "      <td>0.013364</td>\n",
       "      <td>1</td>\n",
       "    </tr>\n",
       "    <tr>\n",
       "      <th>9997</th>\n",
       "      <td>7179.50</td>\n",
       "      <td>7179.50</td>\n",
       "      <td>7179.50</td>\n",
       "      <td>7179.50</td>\n",
       "      <td>0.001526</td>\n",
       "      <td>1</td>\n",
       "    </tr>\n",
       "    <tr>\n",
       "      <th>9998</th>\n",
       "      <td>7182.12</td>\n",
       "      <td>7182.12</td>\n",
       "      <td>7182.12</td>\n",
       "      <td>7182.12</td>\n",
       "      <td>0.013437</td>\n",
       "      <td>1</td>\n",
       "    </tr>\n",
       "    <tr>\n",
       "      <th>9999</th>\n",
       "      <td>7176.56</td>\n",
       "      <td>7176.56</td>\n",
       "      <td>7176.56</td>\n",
       "      <td>7176.56</td>\n",
       "      <td>0.000010</td>\n",
       "      <td>1</td>\n",
       "    </tr>\n",
       "  </tbody>\n",
       "</table>\n",
       "<p>10000 rows × 6 columns</p>\n",
       "</div>"
      ],
      "text/plain": [
       "      price_open  price_high  price_low  price_close  volume_traded  \\\n",
       "0        7165.72     7165.72    7165.71      7165.71       0.021841   \n",
       "1        7168.30     7168.30    7168.30      7168.30       1.000000   \n",
       "2        7170.50     7170.50    7170.50      7170.50       0.002000   \n",
       "3        7169.20     7169.20    7169.20      7169.20       0.004000   \n",
       "4        7169.20     7169.20    7169.20      7169.20       0.002000   \n",
       "...          ...         ...        ...          ...            ...   \n",
       "9995     7179.50     7179.50    7179.50      7179.50       0.013325   \n",
       "9996     7181.67     7181.67    7181.67      7181.67       0.013364   \n",
       "9997     7179.50     7179.50    7179.50      7179.50       0.001526   \n",
       "9998     7182.12     7182.12    7182.12      7182.12       0.013437   \n",
       "9999     7176.56     7176.56    7176.56      7176.56       0.000010   \n",
       "\n",
       "      trades_count  \n",
       "0                2  \n",
       "1                2  \n",
       "2                1  \n",
       "3                2  \n",
       "4                1  \n",
       "...            ...  \n",
       "9995             1  \n",
       "9996             1  \n",
       "9997             1  \n",
       "9998             1  \n",
       "9999             1  \n",
       "\n",
       "[10000 rows x 6 columns]"
      ]
     },
     "execution_count": 65,
     "metadata": {},
     "output_type": "execute_result"
    }
   ],
   "source": [
    "data = pd.read_csv('bitcoin.csv').drop(['time_period_start', 'time_period_end', 'time_open', 'time_close'], axis=1)\n",
    "data"
   ]
  },
  {
   "cell_type": "markdown",
   "metadata": {},
   "source": [
    "## Lookback Window\n",
    "\n",
    "In order to capture the past as features, we create the below function. It takes as input some number of seconds to look back, defaulted to 60 seconds.\n",
    "\n",
    "Question: Is this a good feature set? Can you find a better one?"
   ]
  },
  {
   "cell_type": "code",
   "execution_count": 66,
   "metadata": {},
   "outputs": [],
   "source": [
    "def lookback(dataset, timesteps = 60):\n",
    "    # this uses the shift method of pandas dataframes to shift all of the columns down one row\n",
    "    # and then append to the original dataset\n",
    "    data = dataset\n",
    "    for i in range(1, timesteps):\n",
    "        step_back = dataset.shift(i).reset_index()\n",
    "        step_back.columns = ['index'] + [f'{column}_-{i}' for column in dataset.columns if column != 'index']\n",
    "        data = data.reset_index().merge(step_back, on='index', ).drop('index', axis=1)\n",
    "        \n",
    "    return data.dropna()\n",
    "        \n",
    "features = lookback(data)"
   ]
  },
  {
   "cell_type": "code",
   "execution_count": 67,
   "metadata": {},
   "outputs": [],
   "source": [
    "### split data into features and target\n",
    "target = features['price_high'].values\n",
    "features = features.drop('price_high', axis=1).values"
   ]
  },
  {
   "cell_type": "code",
   "execution_count": 68,
   "metadata": {},
   "outputs": [
    {
     "name": "stdout",
     "output_type": "stream",
     "text": [
      "Train on 6958 samples, validate on 2983 samples\n",
      "Epoch 1/20\n",
      "6958/6958 [==============================] - 1s 96us/step - loss: 51664692.7565 - mean_squared_error: 51664700.0000 - mean_absolute_error: 7187.7852 - val_loss: 51821537.6279 - val_mean_squared_error: 51821536.0000 - val_mean_absolute_error: 7198.7134\n",
      "Epoch 2/20\n",
      "6958/6958 [==============================] - 0s 67us/step - loss: 51664692.8899 - mean_squared_error: 51664708.0000 - mean_absolute_error: 7187.7871 - val_loss: 51821537.6279 - val_mean_squared_error: 51821536.0000 - val_mean_absolute_error: 7198.7134\n",
      "Epoch 3/20\n",
      "6958/6958 [==============================] - 0s 60us/step - loss: 51664692.5243 - mean_squared_error: 51664680.0000 - mean_absolute_error: 7187.7866 - val_loss: 51821537.6279 - val_mean_squared_error: 51821536.0000 - val_mean_absolute_error: 7198.7134\n",
      "Epoch 4/20\n",
      "6958/6958 [==============================] - 0s 66us/step - loss: 51664692.5208 - mean_squared_error: 51664700.0000 - mean_absolute_error: 7187.7852 - val_loss: 51821537.6279 - val_mean_squared_error: 51821536.0000 - val_mean_absolute_error: 7198.7134\n",
      "Epoch 5/20\n",
      "6958/6958 [==============================] - 0s 62us/step - loss: 51664692.5875 - mean_squared_error: 51664696.0000 - mean_absolute_error: 7187.7861 - val_loss: 51821537.6279 - val_mean_squared_error: 51821536.0000 - val_mean_absolute_error: 7198.7134\n",
      "Epoch 6/20\n",
      "6958/6958 [==============================] - 0s 65us/step - loss: 51664692.5576 - mean_squared_error: 51664700.0000 - mean_absolute_error: 7187.7871 - val_loss: 51821537.6279 - val_mean_squared_error: 51821536.0000 - val_mean_absolute_error: 7198.7134\n",
      "Epoch 7/20\n",
      "6958/6958 [==============================] - 1s 80us/step - loss: 51664692.5231 - mean_squared_error: 51664680.0000 - mean_absolute_error: 7187.7871 - val_loss: 51821537.6279 - val_mean_squared_error: 51821536.0000 - val_mean_absolute_error: 7198.7134\n",
      "Epoch 8/20\n",
      "6958/6958 [==============================] - 0s 70us/step - loss: 51664692.6784 - mean_squared_error: 51664676.0000 - mean_absolute_error: 7187.7925 - val_loss: 51821537.6279 - val_mean_squared_error: 51821536.0000 - val_mean_absolute_error: 7198.7134\n",
      "Epoch 9/20\n",
      "6958/6958 [==============================] - 0s 65us/step - loss: 51664692.5415 - mean_squared_error: 51664684.0000 - mean_absolute_error: 7187.7891 - val_loss: 51821537.6279 - val_mean_squared_error: 51821536.0000 - val_mean_absolute_error: 7198.7134\n",
      "Epoch 10/20\n",
      "6958/6958 [==============================] - 1s 78us/step - loss: 51664692.8554 - mean_squared_error: 51664692.0000 - mean_absolute_error: 7187.7856 - val_loss: 51821537.6279 - val_mean_squared_error: 51821536.0000 - val_mean_absolute_error: 7198.7134\n",
      "Epoch 11/20\n",
      "6958/6958 [==============================] - 0s 59us/step - loss: 51664692.7232 - mean_squared_error: 51664696.0000 - mean_absolute_error: 7187.7886 - val_loss: 51821537.6279 - val_mean_squared_error: 51821536.0000 - val_mean_absolute_error: 7198.7134\n",
      "Epoch 12/20\n",
      "6958/6958 [==============================] - 0s 62us/step - loss: 51664692.5565 - mean_squared_error: 51664708.0000 - mean_absolute_error: 7187.7881 - val_loss: 51821537.6279 - val_mean_squared_error: 51821536.0000 - val_mean_absolute_error: 7198.7134\n",
      "Epoch 13/20\n",
      "6958/6958 [==============================] - 1s 75us/step - loss: 51664692.6922 - mean_squared_error: 51664684.0000 - mean_absolute_error: 7187.7856 - val_loss: 51821537.6279 - val_mean_squared_error: 51821536.0000 - val_mean_absolute_error: 7198.7134\n",
      "Epoch 14/20\n",
      "6958/6958 [==============================] - 0s 59us/step - loss: 51664692.7393 - mean_squared_error: 51664692.0000 - mean_absolute_error: 7187.7881 - val_loss: 51821537.6279 - val_mean_squared_error: 51821536.0000 - val_mean_absolute_error: 7198.7134\n",
      "Epoch 15/20\n",
      "6958/6958 [==============================] - 0s 63us/step - loss: 51664692.6715 - mean_squared_error: 51664700.0000 - mean_absolute_error: 7187.7852 - val_loss: 51821537.6279 - val_mean_squared_error: 51821536.0000 - val_mean_absolute_error: 7198.7134\n",
      "Epoch 16/20\n",
      "6958/6958 [==============================] - 0s 65us/step - loss: 51664692.6036 - mean_squared_error: 51664696.0000 - mean_absolute_error: 7187.7915 - val_loss: 51821537.6279 - val_mean_squared_error: 51821536.0000 - val_mean_absolute_error: 7198.7134\n",
      "Epoch 17/20\n",
      "6958/6958 [==============================] - 0s 63us/step - loss: 51664692.7565 - mean_squared_error: 51664700.0000 - mean_absolute_error: 7187.7886 - val_loss: 51821537.6279 - val_mean_squared_error: 51821536.0000 - val_mean_absolute_error: 7198.7134\n",
      "Epoch 18/20\n",
      "6958/6958 [==============================] - 1s 84us/step - loss: 51664692.7025 - mean_squared_error: 51664700.0000 - mean_absolute_error: 7187.7896 - val_loss: 51821537.6279 - val_mean_squared_error: 51821536.0000 - val_mean_absolute_error: 7198.7134\n",
      "Epoch 19/20\n",
      "6958/6958 [==============================] - 1s 87us/step - loss: 51664692.6370 - mean_squared_error: 51664692.0000 - mean_absolute_error: 7187.7866 - val_loss: 51821537.6279 - val_mean_squared_error: 51821536.0000 - val_mean_absolute_error: 7198.7134\n",
      "Epoch 20/20\n",
      "6958/6958 [==============================] - 1s 84us/step - loss: 51664692.7048 - mean_squared_error: 51664672.0000 - mean_absolute_error: 7187.7881 - val_loss: 51821537.6279 - val_mean_squared_error: 51821536.0000 - val_mean_absolute_error: 7198.7134\n"
     ]
    }
   ],
   "source": [
    "model = Sequential()\n",
    "model.add(Dense(32, input_dim=features.shape[1]))\n",
    "model.add(Dense(16))\n",
    "model.add(Dense(1, activation='relu'))\n",
    "\n",
    "model.compile(\n",
    "    loss='mse',\n",
    "    optimizer=Adam(lr=0.01), # is this the best optimizer/learning rate?\n",
    "    metrics=['mean_squared_error', 'mean_absolute_error'] # does accuracy make sense in this context?\n",
    ")\n",
    "\n",
    "## callbacks\n",
    "early_stopping = EarlyStopping(\n",
    "    monitor='val_loss',\n",
    "    mode='auto',\n",
    "    restore_best_weights=True\n",
    ")\n",
    "\n",
    "\n",
    "history = model.fit(\n",
    "    features,\n",
    "    target,\n",
    "    validation_split=.3,\n",
    "    epochs=20,\n",
    "    verbose=1\n",
    ")"
   ]
  },
  {
   "cell_type": "code",
   "execution_count": 69,
   "metadata": {},
   "outputs": [
    {
     "name": "stdout",
     "output_type": "stream",
     "text": [
      "Model: \"sequential_15\"\n",
      "_________________________________________________________________\n",
      "Layer (type)                 Output Shape              Param #   \n",
      "=================================================================\n",
      "dense_37 (Dense)             (None, 32)                11520     \n",
      "_________________________________________________________________\n",
      "dense_38 (Dense)             (None, 16)                528       \n",
      "_________________________________________________________________\n",
      "dense_39 (Dense)             (None, 1)                 17        \n",
      "=================================================================\n",
      "Total params: 12,065\n",
      "Trainable params: 12,065\n",
      "Non-trainable params: 0\n",
      "_________________________________________________________________\n"
     ]
    }
   ],
   "source": [
    "model.summary()"
   ]
  },
  {
   "cell_type": "markdown",
   "metadata": {},
   "source": [
    "Below we calculate predictions and root mean square error. Can we easily improve this RMSE?"
   ]
  },
  {
   "cell_type": "code",
   "execution_count": 70,
   "metadata": {},
   "outputs": [],
   "source": [
    "## prediction\n",
    "predictions = model.predict(features)"
   ]
  },
  {
   "cell_type": "code",
   "execution_count": 71,
   "metadata": {},
   "outputs": [],
   "source": [
    "rmse = np.sqrt(np.mean(np.square((target.reshape(-1, 1) - predictions))))"
   ]
  },
  {
   "cell_type": "code",
   "execution_count": 72,
   "metadata": {},
   "outputs": [
    {
     "data": {
      "text/plain": [
       "7191.088757578544"
      ]
     },
     "execution_count": 72,
     "metadata": {},
     "output_type": "execute_result"
    }
   ],
   "source": [
    "rmse"
   ]
  },
  {
   "cell_type": "markdown",
   "metadata": {},
   "source": [
    "## Save Model\n",
    "\n",
    "The last thing we'll do is save the model for use in the API."
   ]
  },
  {
   "cell_type": "code",
   "execution_count": 73,
   "metadata": {},
   "outputs": [],
   "source": [
    "model.save('model.h5')"
   ]
  },
  {
   "cell_type": "code",
   "execution_count": null,
   "metadata": {},
   "outputs": [],
   "source": []
  }
 ],
 "metadata": {
  "kernelspec": {
   "display_name": "Python 3",
   "language": "python",
   "name": "python3"
  },
  "language_info": {
   "codemirror_mode": {
    "name": "ipython",
    "version": 3
   },
   "file_extension": ".py",
   "mimetype": "text/x-python",
   "name": "python",
   "nbconvert_exporter": "python",
   "pygments_lexer": "ipython3",
   "version": "3.7.6"
  }
 },
 "nbformat": 4,
 "nbformat_minor": 4
}
